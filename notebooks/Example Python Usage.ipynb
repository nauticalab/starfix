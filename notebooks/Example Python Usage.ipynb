{
 "cells": [
  {
   "cell_type": "code",
   "execution_count": 2,
   "id": "70484e9e",
   "metadata": {},
   "outputs": [
    {
     "name": "stdout",
     "output_type": "stream",
     "text": [
      "Received table with 5 rows and 3 columns\n",
      "Table SHA-256 hash: e474f034a7d25abfac4941a3239a3d7c56405c84edb866e474056cbe033a9476\n"
     ]
    },
    {
     "data": {
      "text/plain": [
       "'e474f034a7d25abfac4941a3239a3d7c56405c84edb866e474056cbe033a9476'"
      ]
     },
     "execution_count": 2,
     "metadata": {},
     "output_type": "execute_result"
    }
   ],
   "source": [
    "import pyarrow as pa\n",
    "import ctypes\n",
    "import arrow_hasher as ah\n",
    "\n",
    "def hash_arrow_table(table: pa.Table):\n",
    "    # Covert table to record batch first (so we can extract the pointers), since the default behavior is 1 batch, we can just get the first element\n",
    "    # After that we can extract the PyCapsules\n",
    "    schema_capsule, array_capsule = table.to_batches()[0].__arrow_c_array__()\n",
    "\n",
    "    # Extract raw pointers from capsules due to uniffi limitations\n",
    "    PyCapsule_GetPointer = ctypes.pythonapi.PyCapsule_GetPointer\n",
    "    PyCapsule_GetPointer.argtypes = [ctypes.py_object, ctypes.c_char_p]\n",
    "    PyCapsule_GetPointer.restype = ctypes.c_void_p\n",
    "\n",
    "    return ah.process_arrow_table(PyCapsule_GetPointer(array_capsule, b\"arrow_array\"),  PyCapsule_GetPointer(schema_capsule, b\"arrow_schema\"))\n",
    "\n",
    "# Create a simple Arrow table\n",
    "data = {\n",
    "    'id': [1, 2, 3, 4, 5],\n",
    "    'name': ['Alice', 'Bob', 'Charlie', 'David', 'Eve'],\n",
    "    'value': [10.5, 20.3, 15.7, 30.2, 25.8]\n",
    "}\n",
    "table = pa.table(data)\n",
    "\n",
    "hash_arrow_table(table)\n",
    "\n"
   ]
  }
 ],
 "metadata": {
  "kernelspec": {
   "display_name": "base",
   "language": "python",
   "name": "python3"
  },
  "language_info": {
   "codemirror_mode": {
    "name": "ipython",
    "version": 3
   },
   "file_extension": ".py",
   "mimetype": "text/x-python",
   "name": "python",
   "nbconvert_exporter": "python",
   "pygments_lexer": "ipython3",
   "version": "3.10.19"
  }
 },
 "nbformat": 4,
 "nbformat_minor": 5
}
